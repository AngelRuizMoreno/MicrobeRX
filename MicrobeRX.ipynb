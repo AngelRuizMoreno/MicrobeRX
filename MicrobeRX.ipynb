{
 "cells": [
  {
   "cell_type": "code",
   "execution_count": 1,
   "id": "a18877af-da4f-4107-adf9-4182270c5388",
   "metadata": {},
   "outputs": [],
   "source": [
    "from package.MicrobeRX.Predictor import Predictor, Analyzer, Visualizer, EnzymeFinder\n",
    "\n",
    "from package.MicrobeRX.DataBase import DataFiles\n",
    "\n",
    "\n",
    "import os, multiprocessing"
   ]
  },
  {
   "cell_type": "code",
   "execution_count": null,
   "id": "8aea7caa-0660-4d5d-a3e8-fd38db432db2",
   "metadata": {},
   "outputs": [],
   "source": [
    "DataFiles.HUMAN_EVIDENCES"
   ]
  },
  {
   "cell_type": "code",
   "execution_count": 2,
   "id": "c6b0a866-56b1-4d2f-9932-7bf5d295b289",
   "metadata": {},
   "outputs": [],
   "source": [
    "import pandas as pd"
   ]
  },
  {
   "cell_type": "code",
   "execution_count": 7,
   "id": "b60c2ca6-f2e4-4cf6-a78b-ea0be0cc2dc6",
   "metadata": {},
   "outputs": [
    {
     "data": {
      "text/plain": [
       "<module 'numpy' from '/home/angel/miniconda3/envs/Chem_3/lib/python3.7/site-packages/numpy/__init__.py'>"
      ]
     },
     "execution_count": 7,
     "metadata": {},
     "output_type": "execute_result"
    }
   ],
   "source": [
    "Visualizer"
   ]
  },
  {
   "cell_type": "code",
   "execution_count": 5,
   "id": "a58d9dd1-95e3-49b8-b097-39623f0913a5",
   "metadata": {},
   "outputs": [
    {
     "data": {
      "text/html": [
       "<div>\n",
       "<style scoped>\n",
       "    .dataframe tbody tr th:only-of-type {\n",
       "        vertical-align: middle;\n",
       "    }\n",
       "\n",
       "    .dataframe tbody tr th {\n",
       "        vertical-align: top;\n",
       "    }\n",
       "\n",
       "    .dataframe thead th {\n",
       "        text-align: right;\n",
       "    }\n",
       "</style>\n",
       "<table border=\"1\" class=\"dataframe\">\n",
       "  <thead>\n",
       "    <tr style=\"text-align: right;\">\n",
       "      <th></th>\n",
       "      <th>source</th>\n",
       "      <th>name</th>\n",
       "      <th>ec</th>\n",
       "      <th>mnx_id</th>\n",
       "      <th>organisms_count</th>\n",
       "      <th>xrefs</th>\n",
       "      <th>origin</th>\n",
       "      <th>complexes_count</th>\n",
       "    </tr>\n",
       "  </thead>\n",
       "  <tbody>\n",
       "    <tr>\n",
       "      <th>0</th>\n",
       "      <td>23DHMPO</td>\n",
       "      <td>(R)-2,3-Dihydroxy-3-methylpentanoate:NADP+ oxi...</td>\n",
       "      <td>1.1.1.86</td>\n",
       "      <td>MNXR188296</td>\n",
       "      <td>5776</td>\n",
       "      <td>NaN</td>\n",
       "      <td>GutMicrobe</td>\n",
       "      <td>13252.0</td>\n",
       "    </tr>\n",
       "    <tr>\n",
       "      <th>1</th>\n",
       "      <td>26DAPLLAT</td>\n",
       "      <td>L,L-diaminopimelate aminotransferase</td>\n",
       "      <td>2.6.1.83</td>\n",
       "      <td>MNXR97144</td>\n",
       "      <td>1031</td>\n",
       "      <td>NaN</td>\n",
       "      <td>GutMicrobe</td>\n",
       "      <td>1069.0</td>\n",
       "    </tr>\n",
       "    <tr>\n",
       "      <th>2</th>\n",
       "      <td>2AHBUTI</td>\n",
       "      <td>(S)-2-Aceto-2-hydroxybutanoate isomerase</td>\n",
       "      <td>1.1.1.86;5.4.99.3</td>\n",
       "      <td>MNXR191966</td>\n",
       "      <td>5696</td>\n",
       "      <td>NaN</td>\n",
       "      <td>GutMicrobe</td>\n",
       "      <td>13163.0</td>\n",
       "    </tr>\n",
       "    <tr>\n",
       "      <th>3</th>\n",
       "      <td>2MBCOATA</td>\n",
       "      <td>2-methylbutanoyl-CoA[acyl-carrier-protein] tra...</td>\n",
       "      <td>2.3.1.180</td>\n",
       "      <td>MNXR134855</td>\n",
       "      <td>7088</td>\n",
       "      <td>NaN</td>\n",
       "      <td>GutMicrobe</td>\n",
       "      <td>11183.0</td>\n",
       "    </tr>\n",
       "    <tr>\n",
       "      <th>4</th>\n",
       "      <td>3HAD10M12</td>\n",
       "      <td>10-methyl-3-hydroxy-dodecanoyl-ACP hydro-lyase</td>\n",
       "      <td>4.2.1.59</td>\n",
       "      <td>MNXR134870</td>\n",
       "      <td>7020</td>\n",
       "      <td>NaN</td>\n",
       "      <td>GutMicrobe</td>\n",
       "      <td>406.0</td>\n",
       "    </tr>\n",
       "    <tr>\n",
       "      <th>...</th>\n",
       "      <td>...</td>\n",
       "      <td>...</td>\n",
       "      <td>...</td>\n",
       "      <td>...</td>\n",
       "      <td>...</td>\n",
       "      <td>...</td>\n",
       "      <td>...</td>\n",
       "      <td>...</td>\n",
       "    </tr>\n",
       "    <tr>\n",
       "      <th>7035</th>\n",
       "      <td>TPLOR</td>\n",
       "      <td>theophylline:oxygen oxidoreductase (N3-demethy...</td>\n",
       "      <td>NaN</td>\n",
       "      <td>MNXR111559</td>\n",
       "      <td>3</td>\n",
       "      <td>NaN</td>\n",
       "      <td>GutMicrobe</td>\n",
       "      <td>3.0</td>\n",
       "    </tr>\n",
       "    <tr>\n",
       "      <th>7036</th>\n",
       "      <td>CHITIN_DEGepp</td>\n",
       "      <td>Chitin degradation, assumed extracellular, per...</td>\n",
       "      <td>NaN</td>\n",
       "      <td>NaN</td>\n",
       "      <td>2</td>\n",
       "      <td>NaN</td>\n",
       "      <td>GutMicrobe</td>\n",
       "      <td>0.0</td>\n",
       "    </tr>\n",
       "    <tr>\n",
       "      <th>7037</th>\n",
       "      <td>SERR</td>\n",
       "      <td>Serine racemase</td>\n",
       "      <td>NaN</td>\n",
       "      <td>MNXR104348</td>\n",
       "      <td>6</td>\n",
       "      <td>NaN</td>\n",
       "      <td>GutMicrobe</td>\n",
       "      <td>12.0</td>\n",
       "    </tr>\n",
       "    <tr>\n",
       "      <th>7038</th>\n",
       "      <td>ANPRTr</td>\n",
       "      <td>Anthranilate phosphoribosyltransferase, revers...</td>\n",
       "      <td>NaN</td>\n",
       "      <td>NaN</td>\n",
       "      <td>1</td>\n",
       "      <td>NaN</td>\n",
       "      <td>GutMicrobe</td>\n",
       "      <td>0.0</td>\n",
       "    </tr>\n",
       "    <tr>\n",
       "      <th>7039</th>\n",
       "      <td>AMAT</td>\n",
       "      <td>S-Adenosyl-L-methionine alkyltransferase (cycl...</td>\n",
       "      <td>NaN</td>\n",
       "      <td>MNXR106424</td>\n",
       "      <td>6</td>\n",
       "      <td>NaN</td>\n",
       "      <td>GutMicrobe</td>\n",
       "      <td>6.0</td>\n",
       "    </tr>\n",
       "  </tbody>\n",
       "</table>\n",
       "<p>7040 rows × 8 columns</p>\n",
       "</div>"
      ],
      "text/plain": [
       "             source                                               name  \\\n",
       "0           23DHMPO  (R)-2,3-Dihydroxy-3-methylpentanoate:NADP+ oxi...   \n",
       "1         26DAPLLAT               L,L-diaminopimelate aminotransferase   \n",
       "2           2AHBUTI           (S)-2-Aceto-2-hydroxybutanoate isomerase   \n",
       "3          2MBCOATA  2-methylbutanoyl-CoA[acyl-carrier-protein] tra...   \n",
       "4         3HAD10M12     10-methyl-3-hydroxy-dodecanoyl-ACP hydro-lyase   \n",
       "...             ...                                                ...   \n",
       "7035          TPLOR  theophylline:oxygen oxidoreductase (N3-demethy...   \n",
       "7036  CHITIN_DEGepp  Chitin degradation, assumed extracellular, per...   \n",
       "7037           SERR                                    Serine racemase   \n",
       "7038         ANPRTr  Anthranilate phosphoribosyltransferase, revers...   \n",
       "7039           AMAT  S-Adenosyl-L-methionine alkyltransferase (cycl...   \n",
       "\n",
       "                     ec      mnx_id  organisms_count  xrefs      origin  \\\n",
       "0              1.1.1.86  MNXR188296             5776    NaN  GutMicrobe   \n",
       "1              2.6.1.83   MNXR97144             1031    NaN  GutMicrobe   \n",
       "2     1.1.1.86;5.4.99.3  MNXR191966             5696    NaN  GutMicrobe   \n",
       "3             2.3.1.180  MNXR134855             7088    NaN  GutMicrobe   \n",
       "4              4.2.1.59  MNXR134870             7020    NaN  GutMicrobe   \n",
       "...                 ...         ...              ...    ...         ...   \n",
       "7035                NaN  MNXR111559                3    NaN  GutMicrobe   \n",
       "7036                NaN         NaN                2    NaN  GutMicrobe   \n",
       "7037                NaN  MNXR104348                6    NaN  GutMicrobe   \n",
       "7038                NaN         NaN                1    NaN  GutMicrobe   \n",
       "7039                NaN  MNXR106424                6    NaN  GutMicrobe   \n",
       "\n",
       "      complexes_count  \n",
       "0             13252.0  \n",
       "1              1069.0  \n",
       "2             13163.0  \n",
       "3             11183.0  \n",
       "4               406.0  \n",
       "...               ...  \n",
       "7035              3.0  \n",
       "7036              0.0  \n",
       "7037             12.0  \n",
       "7038              0.0  \n",
       "7039              6.0  \n",
       "\n",
       "[7040 rows x 8 columns]"
      ]
     },
     "execution_count": 5,
     "metadata": {},
     "output_type": "execute_result"
    }
   ],
   "source": [
    "pd.read_csv(DataFiles.MICROBES_EVIDENCES,sep='\\t',compression='gzip')"
   ]
  },
  {
   "cell_type": "code",
   "execution_count": null,
   "id": "47533981-ddc7-4256-81c8-4865604df082",
   "metadata": {},
   "outputs": [],
   "source": [
    "from pkg_resources import resource_string as resource_bytes"
   ]
  },
  {
   "cell_type": "code",
   "execution_count": null,
   "id": "8b471b5b-39e3-4cac-8f78-e0a6dbe0381f",
   "metadata": {},
   "outputs": [],
   "source": [
    "HUMAN_EVIDENCES=pd.read_csv('../databases/Human/bigg_Recon3D_evidences.tsv',sep='\\t')\n",
    "MICROBIOME_EVIDENCES=pd.read_csv('../databases/GutMicrobiome/microbes_reactions.tsv',sep='\\t')\n",
    "RULES_DATABASE = pd.read_csv('../databases/ReactionRules/ALL_RULES.tsv.gz',sep='\\t',compression='gzip')"
   ]
  },
  {
   "cell_type": "code",
   "execution_count": null,
   "id": "a06a8d78-acb9-447f-ae98-a82f9508d0fc",
   "metadata": {},
   "outputs": [],
   "source": [
    "HUMAN_EVIDENCES=HUMAN_EVIDENCES[['source', 'name', 'ec', 'mnx_id', 'organisms_count', 'xrefs', 'origin','complexes_count']]\n",
    "HUMAN_EVIDENCES=HUMAN_EVIDENCES.groupby('mnx_id')['source','name','ec','origin','xrefs'].agg(lambda x: ';'.join([i for i in set(x) if isinstance(i,str)])).reset_index()\n",
    "HUMAN_EVIDENCES"
   ]
  },
  {
   "cell_type": "code",
   "execution_count": null,
   "id": "c3a429ee-7af9-4b6b-8d45-6a9fabf1b1da",
   "metadata": {},
   "outputs": [],
   "source": [
    "reaction_rules=RULES_DATABASE[RULES_DATABASE.reaction_id.isin(HUMAN_EVIDENCES.mnx_id.unique())]"
   ]
  },
  {
   "cell_type": "code",
   "execution_count": null,
   "id": "e7300745-bd9f-4087-93dd-21e4e8d7d634",
   "metadata": {},
   "outputs": [],
   "source": [
    "reaction_rules=pd.concat([reaction_rules,RULES_DATABASE[RULES_DATABASE.reaction_id.isin(MICROBIOME_EVIDENCES.mnx_id.unique())]])\n",
    "reaction_rules=pd.concat([reaction_rules,RULES_DATABASE[RULES_DATABASE.reaction_id.isin(MICROBIOME_EVIDENCES.source.unique())]])\n",
    "reaction_rules.drop_duplicates(ignore_index=True,inplace=True)\n",
    "reaction_rules"
   ]
  },
  {
   "cell_type": "code",
   "execution_count": null,
   "id": "19d44b8a-d692-4e45-938d-97b63b8add69",
   "metadata": {},
   "outputs": [],
   "source": [
    "DATA=pd.concat([HUMAN_EVIDENCES[['source', 'name', 'ec', 'mnx_id', 'organisms_count', 'xrefs', 'origin','complexes_count']],MICROBIOME_EVIDENCES])"
   ]
  },
  {
   "cell_type": "code",
   "execution_count": null,
   "id": "a5c83652-1210-48d1-af9d-ae9c736bd4a0",
   "metadata": {},
   "outputs": [],
   "source": [
    "DATA=pd.concat([HUMAN_EVIDENCES[['source', 'name', 'ec', 'mnx_id', 'organisms_count', 'xrefs', 'origin','complexes_count']],MICROBIOME_EVIDENCES])\n",
    "ALL_EVIDENCES=DATA.groupby('mnx_id')['source','name','ec','origin','xrefs'].agg(lambda x: ';'.join([i for i in set(x) if isinstance(i,str)])).reset_index()\n",
    "ALL_EVIDENCES"
   ]
  },
  {
   "cell_type": "code",
   "execution_count": null,
   "id": "08f6eb64-5837-4e0e-a661-77e989f712a8",
   "metadata": {},
   "outputs": [],
   "source": [
    "reaction_rules=RULES_DATABASE[RULES_DATABASE.mnx_id.isin(ALL_EVIDENCES.mnx_id.unique())]\n",
    "reaction_rules"
   ]
  },
  {
   "cell_type": "code",
   "execution_count": null,
   "id": "9a5cf10d-7247-47c9-b7b1-a62acbd26705",
   "metadata": {},
   "outputs": [],
   "source": [
    "reaction_rules=reaction_rules[reaction_rules.num_atoms>=2]"
   ]
  },
  {
   "cell_type": "code",
   "execution_count": null,
   "id": "d1f3d8eb-37dd-4e31-bf6e-715a575a5ad0",
   "metadata": {},
   "outputs": [],
   "source": [
    "smi=\"OC1=Nc2ccc(cc2C(=NC1)c1ccccc1)[N+]([O-])=O\"\n",
    "name='Nitrofurantoine'\n",
    "query=Chem.MolFromSmiles(smi)\n",
    "query"
   ]
  },
  {
   "cell_type": "markdown",
   "id": "19ba39dd-bc74-4360-b5bf-2bc1e560af30",
   "metadata": {
    "tags": []
   },
   "source": [
    "# Meabolite Predictor"
   ]
  },
  {
   "cell_type": "code",
   "execution_count": null,
   "id": "5fef03bf-6140-4bb6-ba7b-a12556646106",
   "metadata": {},
   "outputs": [],
   "source": [
    "Predictor=MetabolitePredictor(rules_table=reaction_rules)\n",
    "Predictor.run_prediction(query,name=name)"
   ]
  },
  {
   "cell_type": "code",
   "execution_count": null,
   "id": "f822a702-7e2f-4184-bcbd-1fa8739c1b65",
   "metadata": {},
   "outputs": [],
   "source": [
    "mets=Predictor.unique_metabolites\n",
    "#mets=mets.merge(ALL_EVIDENCES,on='mnx_id',how='inner')\n",
    "mets"
   ]
  },
  {
   "cell_type": "code",
   "execution_count": null,
   "id": "63b27c52-a841-40d9-ad40-487962d84c9c",
   "metadata": {},
   "outputs": [],
   "source": [
    "mets.reaction_id.unique()"
   ]
  },
  {
   "cell_type": "code",
   "execution_count": null,
   "id": "51521f94-3b7c-4d64-bc65-af89f07194d2",
   "metadata": {},
   "outputs": [],
   "source": [
    "mets[mets.reaction_id=='CZP_NR']"
   ]
  },
  {
   "cell_type": "markdown",
   "id": "307acb2b-b48e-49e3-88ba-a5d6d8f4891a",
   "metadata": {
    "tags": []
   },
   "source": [
    "# Visualizer"
   ]
  },
  {
   "cell_type": "code",
   "execution_count": null,
   "id": "6519ef4c-33f1-403f-be25-8e9ee4050f18",
   "metadata": {},
   "outputs": [],
   "source": [
    "View=Visualizer(mets,query=query,name=name)\n",
    "View.plot_confidence_scores()"
   ]
  },
  {
   "cell_type": "code",
   "execution_count": null,
   "id": "7776341f-34ad-476b-a0c9-c8175cd48f7e",
   "metadata": {},
   "outputs": [],
   "source": [
    "F=View.plot_evidences(nodes=['mnx_id','origin','name','ec','metabolite_id'])\n",
    "F"
   ]
  },
  {
   "cell_type": "code",
   "execution_count": null,
   "id": "c41f83f3-e602-4f13-9988-5b8e1b84b901",
   "metadata": {},
   "outputs": [],
   "source": [
    "ma=View.plot_metabolic_accesibility()"
   ]
  },
  {
   "cell_type": "code",
   "execution_count": null,
   "id": "ff5f22aa-13ed-47eb-8dac-a54603b8a695",
   "metadata": {},
   "outputs": [],
   "source": [
    "View.display_metabolites(columns_to_display=['mnx_id','source','ec','name'])"
   ]
  },
  {
   "cell_type": "markdown",
   "id": "b69d6304-b3cf-43f9-a5c0-07be112505ef",
   "metadata": {
    "tags": []
   },
   "source": [
    "# Chemical Analysis"
   ]
  },
  {
   "cell_type": "code",
   "execution_count": null,
   "id": "e3ef7cdf-d1b2-4390-b02c-1c46320b3b66",
   "metadata": {},
   "outputs": [],
   "source": [
    "Analysis=Analyzer(Predictor.unique_metabolites,col_smiles='main_product_smiles')\n",
    "Analysis.compute_molecular_descriptors()\n",
    "\n",
    "Analysis.plot_molecular_descriptors()"
   ]
  },
  {
   "cell_type": "code",
   "execution_count": null,
   "id": "8f93941f-6104-46a2-a724-36a35dcc743e",
   "metadata": {},
   "outputs": [],
   "source": [
    "Analysis.compute_isotopic_mass()\n",
    "Analysis.plot_isotopic_masses()"
   ]
  },
  {
   "cell_type": "code",
   "execution_count": null,
   "id": "d55657c8-348e-448b-bfe2-34296f6a00f1",
   "metadata": {},
   "outputs": [],
   "source": [
    "Analysis.search_pubchem()\n",
    "Analysis.data_frame"
   ]
  },
  {
   "cell_type": "code",
   "execution_count": null,
   "id": "6db271fc-0f9f-4cdf-86e3-18dbc0459793",
   "metadata": {},
   "outputs": [],
   "source": [
    "View=Visualizer(Analysis.data_frame.drop_duplicates(subset='metabolite_id'),query=query,name=name)\n",
    "View.display_metabolites(legends_col='metabolite_id',columns_to_display=['mnx_id'])"
   ]
  },
  {
   "cell_type": "markdown",
   "id": "ca808d69-409e-47f4-989e-489ed1f5d08d",
   "metadata": {
    "tags": []
   },
   "source": [
    "# Omics Integrator"
   ]
  },
  {
   "cell_type": "code",
   "execution_count": null,
   "id": "2a7100b0-dc62-4933-a2a9-4e767e31d7b8",
   "metadata": {},
   "outputs": [],
   "source": [
    "table=mets[mets.metabolite_id=='Nitrofurantoine_44']\n",
    "View=Visualizer(table,query=query,name=name)\n",
    "View.plot_evidences(nodes=['mnx_id','origin','source','name','ec','metabolite_id'])"
   ]
  },
  {
   "cell_type": "code",
   "execution_count": null,
   "id": "d665f14e-1fd8-4617-a715-8f9e216fdcc0",
   "metadata": {},
   "outputs": [],
   "source": [
    "sources=[s for entry in table.source for s in entry.split(';')]"
   ]
  },
  {
   "cell_type": "code",
   "execution_count": null,
   "id": "655a43be-8750-4c8a-957d-51b31b358b8d",
   "metadata": {},
   "outputs": [],
   "source": [
    "sources"
   ]
  },
  {
   "cell_type": "code",
   "execution_count": null,
   "id": "fd665b3c-47bf-4b12-b224-60f280b9e7f8",
   "metadata": {},
   "outputs": [],
   "source": [
    "summary=DATA[DATA.source.isin(sources)][['origin','mnx_id','source','name','organisms_count','complexes_count']].reset_index(drop=True)\n",
    "summary"
   ]
  },
  {
   "cell_type": "code",
   "execution_count": null,
   "id": "40a2407b-74d5-4459-9d2e-36fa4ffbb990",
   "metadata": {},
   "outputs": [],
   "source": [
    "evidence=pd.read_csv('databases/GutMicrobiome/contigs/NTPTP1.tsv',sep='\\t')\n",
    "evidence"
   ]
  },
  {
   "cell_type": "code",
   "execution_count": null,
   "id": "777b0cb6-f741-417d-8f0e-296e903ac2f2",
   "metadata": {},
   "outputs": [],
   "source": [
    "microbes_data=pd.read_csv('databases/GutMicrobiome/microbes_data.tsv',sep='\\t')\n",
    "genomes=microbes_data[~microbes_data['Annotation version ID'].isna()]\n",
    "\n",
    "genomes_ids=genomes['Annotation version ID'].to_list()"
   ]
  },
  {
   "cell_type": "code",
   "execution_count": null,
   "id": "deeb5368-5464-4a63-9458-4d723ca95b7c",
   "metadata": {},
   "outputs": [],
   "source": [
    "missing=set(map(str,genomes_ids)) - set([i.replace('.fasta','') for i in os.listdir('databases/GutMicrobiome/proteomes/batch_1/')])\n",
    "len(missing)"
   ]
  }
 ],
 "metadata": {
  "kernelspec": {
   "display_name": "Chem_3",
   "language": "python",
   "name": "chem_3"
  },
  "language_info": {
   "codemirror_mode": {
    "name": "ipython",
    "version": 3
   },
   "file_extension": ".py",
   "mimetype": "text/x-python",
   "name": "python",
   "nbconvert_exporter": "python",
   "pygments_lexer": "ipython3",
   "version": "3.7.13"
  }
 },
 "nbformat": 4,
 "nbformat_minor": 5
}
