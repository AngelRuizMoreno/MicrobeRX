{
 "cells": [
  {
   "cell_type": "markdown",
   "id": "e942fe53-fe5f-4a93-9945-1f6fa23729d7",
   "metadata": {},
   "source": [
    "<img src=\"img/logo.png\"  width=\"220\" height=\"200\">"
   ]
  },
  {
   "cell_type": "markdown",
   "id": "7508a935-fb4e-4880-b459-a215198d761b",
   "metadata": {},
   "source": [
    "[**Description**](#description) | [**Requirements**](#requirements) | [**Installation**](#installation) | [**Citation**](#citation) | [**License**](#license)"
   ]
  },
  {
   "cell_type": "markdown",
   "id": "ab58141c-9515-4087-8027-0dce672b92da",
   "metadata": {},
   "source": [
    "## Description\n",
    "\n",
    "**MicrobeRX is A tool for enzymatic reaction-based metabolite prediction in the gut microbiome.** <br><br>\n",
    "\n",
    "> The main publication and details about the tool can be found in this publication:\n",
    "\n",
    ">> [publication here]()\n",
    "\n",
    "> The python library was developed to be integrated easily with any other bioinformatic or cheminformatic tool.\n",
    "\n",
    "> This repository contains a Jupyter Notbook showing the capabilities of this library.\n",
    "\n",
    "Question about usage or troubleshooting? Please leave a comment here"
   ]
  },
  {
   "cell_type": "markdown",
   "id": "6da9e480-79a6-45ac-8a36-3852b61ed34f",
   "metadata": {},
   "source": [
    "## Requirements\n",
    "\n",
    "Jupyter Dock is reliant on a variety of academic software. The Jupyter Dock.yaml file contains all the tools and dependencies, but the following are some of the most noticeable:\n",
    "\n",
    "- rdkit\n",
    "- datamol\n",
    "- pyopenms\n",
    "- pubchempy\n",
    "- pandas\n",
    "- plotly\n",
    "- plotly_express\n",
    "- distinctipy\n",
    "- numpy\n",
    "- matplotlib\n",
    "- seaborn\n",
    "- mols2grid\n",
    "- tqdm"
   ]
  },
  {
   "cell_type": "markdown",
   "id": "c6a53dc2-cd13-444f-bb8b-31c501b17bfa",
   "metadata": {},
   "source": [
    "## Installation \n",
    "\n",
    "**1. Installing MicrobeRX from Conda:**\n",
    "\n",
    "```\n",
    "conda install -c conda-forge MicrobeRX ## TODO\n",
    "```\n",
    "\n",
    "**2. Installing MicrobeRX from PIP:**\n",
    "\n",
    "```\n",
    "pip install MicrobeRX ## TODO\n",
    "```\n",
    "\n",
    "**3. GoogleColab:**\n",
    "\n",
    "> [MicrobeRX Colab]()\n"
   ]
  },
  {
   "cell_type": "markdown",
   "id": "696f484c-7179-4cc7-900f-bbc5b5db3657",
   "metadata": {},
   "source": [
    "## Citation\n",
    "> MicrobeRX: A tool for enzymatic reaction-based metabolite prediction in the gut microbiome reveals the drug metabolism landscape of gut microbes https://doi.org/"
   ]
  },
  {
   "cell_type": "markdown",
   "id": "3d4610ba-0d7d-4af4-960e-ebd7c624eead",
   "metadata": {},
   "source": [
    "## License\n",
    "These notebooks are under MIT, see the LICENSE file for details."
   ]
  }
 ],
 "metadata": {
  "kernelspec": {
   "display_name": "Chem_3",
   "language": "python",
   "name": "chem_3"
  },
  "language_info": {
   "codemirror_mode": {
    "name": "ipython",
    "version": 3
   },
   "file_extension": ".py",
   "mimetype": "text/x-python",
   "name": "python",
   "nbconvert_exporter": "python",
   "pygments_lexer": "ipython3",
   "version": "3.7.13"
  }
 },
 "nbformat": 4,
 "nbformat_minor": 5
}
