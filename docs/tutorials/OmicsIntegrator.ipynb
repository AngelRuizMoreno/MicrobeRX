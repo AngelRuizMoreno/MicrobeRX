{
 "cells": [
  {
   "cell_type": "markdown",
   "id": "34ecef4e-06bc-455d-ac2d-daf6877793da",
   "metadata": {},
   "source": [
    "# OmicsIntegrator"
   ]
  },
  {
   "cell_type": "code",
   "execution_count": 3,
   "id": "2cb0a9bd-c033-4eb1-a311-2eba0ac70fc5",
   "metadata": {
    "tags": []
   },
   "outputs": [
    {
     "ename": "ModuleNotFoundError",
     "evalue": "No module named 'MicrobeRX.OmicsIntegrator'",
     "output_type": "error",
     "traceback": [
      "\u001b[0;31m---------------------------------------------------------------------------\u001b[0m",
      "\u001b[0;31mModuleNotFoundError\u001b[0m                       Traceback (most recent call last)",
      "Cell \u001b[0;32mIn[3], line 2\u001b[0m\n\u001b[1;32m      1\u001b[0m \u001b[38;5;28;01mfrom\u001b[39;00m \u001b[38;5;21;01mMicrobeRX\u001b[39;00m\u001b[38;5;21;01m.\u001b[39;00m\u001b[38;5;21;01mPredictor\u001b[39;00m\u001b[38;5;21;01m.\u001b[39;00m\u001b[38;5;21;01mVisualizer\u001b[39;00m \u001b[38;5;28;01mimport\u001b[39;00m plot_relationships\n\u001b[0;32m----> 2\u001b[0m \u001b[38;5;28;01mfrom\u001b[39;00m \u001b[38;5;21;01mMicrobeRX\u001b[39;00m\u001b[38;5;21;01m.\u001b[39;00m\u001b[38;5;21;01mOmicsIntegrator\u001b[39;00m \u001b[38;5;28;01mimport\u001b[39;00m plot_species_sunburst\n\u001b[1;32m      4\u001b[0m \u001b[38;5;28;01mimport\u001b[39;00m \u001b[38;5;21;01mpandas\u001b[39;00m \u001b[38;5;28;01mas\u001b[39;00m \u001b[38;5;21;01mpd\u001b[39;00m\n",
      "\u001b[0;31mModuleNotFoundError\u001b[0m: No module named 'MicrobeRX.OmicsIntegrator'"
     ]
    }
   ],
   "source": [
    "from MicrobeRX.Predictor.Visualizer import plot_relationships\n",
    "from MicrobeRX.OmicsIntegrator import plot_species_sunburst\n",
    "\n",
    "import pandas as pd"
   ]
  },
  {
   "cell_type": "code",
   "execution_count": null,
   "id": "aa8fa2c3-9339-4a36-b2aa-cb37d022b6bc",
   "metadata": {},
   "outputs": [],
   "source": [
    "evidences=pd.read_csv('test/prednisone_evidences.tsv',sep='\\t')\n",
    "evidences"
   ]
  },
  {
   "cell_type": "code",
   "execution_count": null,
   "id": "fff64cab-fe27-4cf7-affb-c5b4cca01846",
   "metadata": {},
   "outputs": [],
   "source": [
    "plot_relationships(evidences,nodes=['reaction_id','origin','name','ec','metabolite_id'])"
   ]
  },
  {
   "cell_type": "code",
   "execution_count": null,
   "id": "46696279-aff6-4ce4-b3df-d10b1298314c",
   "metadata": {},
   "outputs": [],
   "source": [
    "plot_species_sunburst(sources=['ACCOACORAT'])"
   ]
  },
  {
   "cell_type": "code",
   "execution_count": null,
   "id": "242b3a62-7448-4916-8dc5-a2170250b019",
   "metadata": {},
   "outputs": [],
   "source": [
    "from package.MicrobeRX.DataFiles import load_microbes_reactions "
   ]
  },
  {
   "cell_type": "code",
   "execution_count": null,
   "id": "d88b9bea-b18f-449c-9ebc-20a4220d3037",
   "metadata": {},
   "outputs": [],
   "source": [
    "reactions=load_microbes_reactions()\n",
    "reactions"
   ]
  },
  {
   "cell_type": "code",
   "execution_count": null,
   "id": "dc7f958f-1a34-4367-ae02-d08bb7f52725",
   "metadata": {},
   "outputs": [],
   "source": [
    "reactions[['ACCOACORAT']].dropna().to_csv('test/ACCOACORAT_ids.tsv',sep='\\t',index=True)"
   ]
  },
  {
   "cell_type": "code",
   "execution_count": null,
   "id": "63a975c6-9bbf-43d4-9914-d2f5fce3887a",
   "metadata": {},
   "outputs": [],
   "source": [
    "import pandas as pd\n",
    "\n",
    "from Bio import Entrez\n",
    "from Bio.Align.Applications import ClustalOmegaCommandline\n",
    "from Bio import Phylo\n",
    "from Bio import AlignIO, SeqIO, SeqRecord\n",
    "\n",
    "from io import StringIO\n",
    "\n",
    "\n",
    "from ete3 import PhyloTree, SeqMotifFace, TreeStyle, AttrFace, NodeStyle, faces, TextFace, Tree\n",
    "\n",
    "Entrez.email = \"a.j.ruiz.moreno@umcg.nl\"\n",
    "\n",
    "import re\n",
    "\n",
    "from tqdm.notebook import tqdm\n",
    "\n",
    "pattern = r\"\\[(.*?)\\]\""
   ]
  },
  {
   "cell_type": "code",
   "execution_count": null,
   "id": "802f7056-67c2-4512-8577-b54d53f70402",
   "metadata": {},
   "outputs": [],
   "source": [
    "evidences=pd.read_csv('../../../../MicrobeRX/test/ACCOACORAT_ids.tsv',sep='\\t',index_col=[0])\n",
    "evidences"
   ]
  },
  {
   "cell_type": "code",
   "execution_count": null,
   "id": "3936c92b-f5b6-4f2d-992e-b610ca7c184f",
   "metadata": {},
   "outputs": [],
   "source": [
    "with open('sequences.faa','w') as fasta:\n",
    "    for entry in evidences.ACCOACORAT.unique():\n",
    "        try:\n",
    "            handle = Entrez.efetch(db=\"protein\", id=entry, rettype=\"fasta\", retmode=\"text\")\n",
    "            fasta.write(handle.read())\n",
    "            handle.close()\n",
    "        except Exception:\n",
    "            pass"
   ]
  },
  {
   "cell_type": "code",
   "execution_count": null,
   "id": "bd68f4ad-7711-43f9-a7ca-8024c4ccd536",
   "metadata": {},
   "outputs": [],
   "source": [
    "records={r.id:r for r in SeqIO.parse('sequences.faa','fasta')}   "
   ]
  },
  {
   "cell_type": "code",
   "execution_count": null,
   "id": "a50d3205-71ec-4d13-87f5-2eef18cb0092",
   "metadata": {},
   "outputs": [],
   "source": [
    "sequences={}\n",
    "for index in evidences.index:\n",
    "    if evidences.ACCOACORAT[index] in records.keys():\n",
    "        seq=copy.deepcopy(records[evidences.ACCOACORAT[index]])\n",
    "        seq.id=index\n",
    "        seq.name=index\n",
    "        seq.description=evidences.ACCOACORAT[index]\n",
    "        sequences[index]=seq\n",
    "    else:\n",
    "        pass"
   ]
  },
  {
   "cell_type": "code",
   "execution_count": null,
   "id": "a70304a9-be99-446f-b2d4-0c52f96d07ad",
   "metadata": {},
   "outputs": [],
   "source": [
    "with open(\"ACCOACORAT.faa\", \"w\") as output_handle:\n",
    "    SeqIO.write(sequences.values(), output_handle, \"fasta\")"
   ]
  },
  {
   "cell_type": "code",
   "execution_count": null,
   "id": "02f1059e-168d-49d9-acf3-cc001c3aa409",
   "metadata": {},
   "outputs": [],
   "source": [
    "clustalo = './clustalo4'\n",
    "\n",
    "clustalomega_cline = ClustalOmegaCommandline(cmd=clustalo,infile=f'sequences.faa', \n",
    "                                                 guidetree_out=f'ACCOACORAT.dnd',\n",
    "                                                 outfile=f'ACCOACORAT.aln',\n",
    "                                                 outfmt='fa',\n",
    "                                                 seqtype='Protein',\n",
    "                                                 verbose=False,auto=True,force=True)"
   ]
  },
  {
   "cell_type": "code",
   "execution_count": null,
   "id": "cd81fa89-979e-487b-9b25-232de14919bc",
   "metadata": {},
   "outputs": [],
   "source": [
    "clustalomega_cline()"
   ]
  },
  {
   "cell_type": "code",
   "execution_count": null,
   "id": "95ef1314-f628-4f40-8a57-deb5285c99fe",
   "metadata": {},
   "outputs": [],
   "source": [
    "aligment = SeqIO.to_dict(SeqIO.parse(\"ACCOACORAT.aln\", \"fasta\"))"
   ]
  },
  {
   "cell_type": "code",
   "execution_count": null,
   "id": "5a24876c-2059-4009-9ec7-d13698421f13",
   "metadata": {},
   "outputs": [],
   "source": [
    "tree = Tree(newick='ACCOACORAT.dnd',)\n",
    "\n",
    "nstyle = NodeStyle()\n",
    "nstyle[\"shape\"] = \"sphere\"\n",
    "nstyle[\"fgcolor\"] = \"black\"\n",
    "nstyle[\"size\"] = 5\n",
    "\n",
    "for n in tree.traverse():\n",
    "    n.set_style(nstyle)\n",
    "\n",
    "for leaf in tree.get_leaves():\n",
    "    if leaf.name in ['WP_034512663.1','WP_005307587.1','WP_001112110.1']:\n",
    "        seqFace = SeqMotifFace(str(aligment[leaf.name].seq), gapcolor=\"Gray\",seq_format=\"compactseq\",fgcolor='white',bgcolor='lightblue',height=7)\n",
    "        leaf.add_face(seqFace, column=0,position= \"aligned\")\n",
    "\n",
    "        txtFace=TextFace(f\"  {str(aligment[leaf.name].name)}\",fsize=7,bold=True,fgcolor='red')\n",
    "        leaf.add_face(txtFace, column=0,position= \"branch-right\")\n",
    "\n",
    "        txtFace=TextFace(f\"  {str(aligment[leaf.name].description)}\",fsize=7,bold=False,fgcolor='red')\n",
    "        leaf.add_face(txtFace, column=1,position= \"aligned\")\n",
    "    \n",
    "    else:\n",
    "        \n",
    "        seqFace = SeqMotifFace(str(aligment[leaf.name].seq), gapcolor=\"Gray\",seq_format=\"compactseq\",fgcolor='white',bgcolor='lightblue',height=7)\n",
    "        leaf.add_face(seqFace, column=0,position= \"aligned\")\n",
    "\n",
    "        txtFace=TextFace(f\"  {str(aligment[leaf.name].name)}\",fsize=7,bold=False)\n",
    "        leaf.add_face(txtFace, column=0,position= \"branch-right\")\n",
    "\n",
    "        txtFace=TextFace(f\"  {str(aligment[leaf.name].description)}\",fsize=7,bold=False)\n",
    "        leaf.add_face(txtFace, column=1,position= \"aligned\")\n",
    "    \n",
    "\n",
    "ts = TreeStyle()\n",
    "ts.show_leaf_name = False\n",
    "ts.show_branch_length = False\n",
    "ts.show_branch_support=False\n",
    "ts.scale = 10\n",
    "ts.mode = \"r\"\n",
    "ts.force_topology=False\n",
    "\n",
    "tree.render(\"%%inline\",dpi=300,tree_style=ts,w=1200)"
   ]
  },
  {
   "cell_type": "code",
   "execution_count": null,
   "id": "c0f6e9e8-497a-4d32-af8e-7edadb5e7691",
   "metadata": {},
   "outputs": [],
   "source": [
    "import matplotlib.pyplot as plt\n",
    "import logomaker as logomaker\n",
    "\n",
    "logomaker.demo('fig1b')"
   ]
  },
  {
   "cell_type": "code",
   "execution_count": null,
   "id": "c3f500b2-8af1-423a-9243-7850123b6772",
   "metadata": {},
   "outputs": [],
   "source": [
    "def PlotSequenceLogo(file)->None:\n",
    "    \n",
    "    alignment = AlignIO.read(file, \"fasta\")\n",
    "    \n",
    "    msa_dict={}\n",
    "    for name,entry in entries.items():\n",
    "        for aln in alignment:\n",
    "            if entry in aln.id:\n",
    "                new_numeration=list({i+1:L for i,L in enumerate(aln.seq) if L!='-'}.items())\n",
    "                start,end=domains_dict[name]\n",
    "                msa_dict[name]=[new_numeration[start-1][0],new_numeration[end-1][0]]\n",
    "\n",
    "    chunks={}\n",
    "    for seq in alignment:\n",
    "        sequence_chunks=Chunk_list(str(seq.seq),100)\n",
    "        for index,seq_fragment in enumerate(sequence_chunks):\n",
    "            chunks.setdefault(index, []).append(seq_fragment)\n",
    "\n",
    "    fig, axes = plt.subplots(nrows=len(chunks), ncols=1,figsize=(20,2*len(chunks)),sharex=False,sharey=False)         \n",
    "    xtick_start=1\n",
    "\n",
    "    yticks=np.arange(0,len(alignment)+1, 5)\n",
    "\n",
    "    for index,seqs in chunks.items():\n",
    "        ax=axes.ravel()[index]\n",
    "        counts_mat=logomaker.alignment_to_matrix(sequences=seqs,to_type='counts',)\n",
    "\n",
    "        logo=logomaker.Logo(counts_mat,shade_below=0.5,fade_below=0.5,ax=ax,color_scheme='black',fade_probabilities=True,\n",
    "                            stack_order='big_on_top')\n",
    "\n",
    "        logo.style_spines(visible=False)\n",
    "        logo.style_xticks(rotation=90,fmt='%d', anchor=0,fontsize=10)\n",
    "        logo.style_spines(spines=['left', 'bottom'], visible=True)\n",
    "        ax.set_ylabel(\"Bits\", labelpad=1,size=16)\n",
    "        #ax.set_yticklabels(ax.get_yticks().astype(int),fontsize=10)\n",
    "\n",
    "        xticklabels=ax.get_xticks()+xtick_start\n",
    "\n",
    "        ax.set_xticklabels(xticklabels)\n",
    "        ax.tick_params(width=1.5,size=2)\n",
    "\n",
    "\n",
    "        colorsDomains={k:color for k,color in zip(msa_dict.keys(),sns.color_palette(\"Set1\", len(msa_dict.keys())).as_hex())}\n",
    "\n",
    "        for dname,msa_pointers in msa_dict.items():\n",
    "            s=msa_pointers[0]\n",
    "            e=msa_pointers[1]\n",
    "            if s in xticklabels:\n",
    "                plot_index=list(xticklabels).index(s)\n",
    "                ax.axvline(x=ax.get_xticks()[plot_index], ymin=0, ymax=len(alignment)+1, color=colorsDomains[dname],linewidth=6,linestyle='--')\n",
    "                ax.text(x=ax.get_xticks()[plot_index]+0.5, y=len(alignment),s=f'{dname}->',fontsize=12,horizontalalignment='left',fontweight='bold',color=colorsDomains[dname])\n",
    "            if e in xticklabels:\n",
    "                plot_index=list(xticklabels).index(e)\n",
    "                ax.axvline(x=ax.get_xticks()[plot_index], ymin=0, ymax=len(alignment)+1, color=colorsDomains[dname],linewidth=6,linestyle='--')\n",
    "                ax.text(x=ax.get_xticks()[plot_index]-0.5, y=len(alignment),s=f'<-{dname}',fontsize=12,horizontalalignment='right',fontweight='bold',color=colorsDomains[dname])\n",
    "\n",
    "        xtick_start=xtick_start+ax.get_xticks()[-1]+1\n",
    "\n",
    "    for ax in axes:\n",
    "        ax.set_ylim(0,len(alignment)+1)\n",
    "        ax.set_yticks(yticks,yticks)\n",
    "\n",
    "    fig.subplots_adjust(bottom=0.0, top=1.0, left=0.1, right=0.8,wspace=0.2, hspace=0.4)\n",
    "    \n",
    "    if isinstance(outfile,str):\n",
    "        fig.savefig(outfile,dpi=300,format='svg',bbox_inches='tight')\n",
    "\n",
    "    else: pass\n",
    "\n",
    "    return fig\n",
    "    "
   ]
  },
  {
   "cell_type": "code",
   "execution_count": null,
   "id": "83a43b32-0637-4d21-8643-e9f84eb98fea",
   "metadata": {},
   "outputs": [],
   "source": [
    "PlotSequenceLogo('ACCOACORAT.aln')"
   ]
  },
  {
   "cell_type": "code",
   "execution_count": null,
   "id": "20add1cc-92a7-4fe6-aa42-c1e68b88a230",
   "metadata": {},
   "outputs": [],
   "source": [
    "import urllib.request as urlreq\n",
    "from dash import html\n",
    "import dash_bio as dashbio\n",
    "from jupyter_dash import JupyterDash"
   ]
  },
  {
   "cell_type": "code",
   "execution_count": null,
   "id": "f4c7cb1e-85c4-4393-bb52-c3b4bd0b6721",
   "metadata": {},
   "outputs": [],
   "source": [
    "data = urlreq.urlopen('https://git.io/alignment_viewer_p53.fasta').read().decode('utf-8')"
   ]
  },
  {
   "cell_type": "code",
   "execution_count": null,
   "id": "5332fff2-521f-4dfb-a9d3-336c54234f33",
   "metadata": {},
   "outputs": [],
   "source": [
    "with open('ACCOACORAT.aln','r') as f:\n",
    "    data=f.read()"
   ]
  },
  {
   "cell_type": "code",
   "execution_count": null,
   "id": "5d655b5c-899c-4fcd-927b-393cbe0a70f3",
   "metadata": {},
   "outputs": [],
   "source": [
    "chart=dashbio.AlignmentChart(id='alignment-viewer',data=data,colorscale='clustal',conservationcolorscale='Viridis',ticksteps=25,showid=False,showlabel=False,textsize=1,groupbars=True,overview='heatmap',width=1200)"
   ]
  },
  {
   "cell_type": "code",
   "execution_count": null,
   "id": "c7b0b138-21cd-4908-a636-351d4fb05c92",
   "metadata": {},
   "outputs": [],
   "source": [
    "app = JupyterDash(__name__)\n",
    "app.layout = html.Div(chart)\n",
    "app.run_server(mode='inline',port=8030)"
   ]
  },
  {
   "cell_type": "code",
   "execution_count": null,
   "id": "08c919f9-ff31-4ef7-8452-ca964f5b207e",
   "metadata": {},
   "outputs": [],
   "source": []
  }
 ],
 "metadata": {
  "kernelspec": {
   "display_name": "MicrobeRX",
   "language": "python",
   "name": "microberx"
  },
  "language_info": {
   "codemirror_mode": {
    "name": "ipython",
    "version": 3
   },
   "file_extension": ".py",
   "mimetype": "text/x-python",
   "name": "python",
   "nbconvert_exporter": "python",
   "pygments_lexer": "ipython3",
   "version": "3.11.5"
  }
 },
 "nbformat": 4,
 "nbformat_minor": 5
}
